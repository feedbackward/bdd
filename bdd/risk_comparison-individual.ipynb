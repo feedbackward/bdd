{
 "cells": [
  {
   "cell_type": "markdown",
   "id": "9023cd0e",
   "metadata": {},
   "source": [
    "# Risk comparison (individual values)\n",
    "\n",
    "Here we consider some basic examples illustrating how different risks respond to different degrees of location/dispersion change."
   ]
  },
  {
   "cell_type": "code",
   "execution_count": 1,
   "id": "6cfd8d29",
   "metadata": {},
   "outputs": [],
   "source": [
    "## External modules.\n",
    "import matplotlib.pyplot as plt\n",
    "import numpy as np\n",
    "from os import path\n",
    "from scipy.optimize import minimize_scalar\n",
    "\n",
    "## Internal modules.\n",
    "from mml.utils import makedir_safe\n",
    "from setup_sims import bracket_prep, data_all, data_bounded, data_heavytails, data_symmetric, data_unbounded, gen_data, get_entropic, get_obfn\n",
    "from setup_results import img_dir, my_fontsize, my_ext, export_legend"
   ]
  },
  {
   "cell_type": "code",
   "execution_count": 2,
   "id": "ffb17c50",
   "metadata": {},
   "outputs": [],
   "source": [
    "## Setup: create directory to save figures.\n",
    "makedir_safe(img_dir)"
   ]
  },
  {
   "cell_type": "code",
   "execution_count": 3,
   "id": "eeac2a77",
   "metadata": {},
   "outputs": [],
   "source": [
    "## Prepare seed sequence; lets us align datasets across different tests.\n",
    "entropy = 21281555010861417500927421083615113141\n",
    "ss = np.random.SeedSequence(entropy=entropy)"
   ]
  },
  {
   "cell_type": "code",
   "execution_count": 4,
   "id": "8c6fc00b",
   "metadata": {},
   "outputs": [],
   "source": [
    "## Specify the data to be generated.\n",
    "n = 10000\n",
    "data_asym = \"weibull-unitvar\" #\"gamma-unitvar\" \"weibull-unitvar\"\n",
    "data_sym = \"normal-sharp\"\n",
    "data_labels = [r\"$A$\", r\"$A^{\\prime}$\", r\"$S$\"]"
   ]
  },
  {
   "cell_type": "code",
   "execution_count": 5,
   "id": "549a94ff",
   "metadata": {},
   "outputs": [],
   "source": [
    "## Specify the risk functions to be used.\n",
    "\n",
    "todo_risks = [\"trisk\", \"cvar\", \"entropic\", \"dro\"]\n",
    "todo_riskparas = {\n",
    "    \"trisk\": {\"alpha\": 1.0, \"sigma\": 0.1, \"etatilde\": 1.0},\n",
    "    \"cvar\": {\"prob\": 0.95},\n",
    "    \"entropic\": {\"gamma\": 1.5},\n",
    "    \"dro\": {\"atilde\": 0.95}\n",
    "}\n",
    "risk_colors = {\"trisk\": \"xkcd:red\",\n",
    "               \"cvar\": \"xkcd:blue\",\n",
    "               \"entropic\": \"xkcd:cyan\",\n",
    "               \"dro\": \"xkcd:magenta\"}\n",
    "\n",
    "def compute_risk(x_values, name, paras):\n",
    "    obfn = get_obfn(name=name)\n",
    "    bracket_low, bracket_mid, bracket_high = bracket_prep(\n",
    "        x=x_values, paras=paras, obfn_name=name, verbose=False\n",
    "    )\n",
    "    opt_result = minimize_scalar(fun=obfn,\n",
    "                                 bracket=(bracket_low, bracket_mid, bracket_high),\n",
    "                                 bounds=(bracket_low, bracket_high),\n",
    "                                 args=(x_values, paras),\n",
    "                                 method=\"bounded\",\n",
    "                                 options={\"xatol\": 1e-10})\n",
    "    return (opt_result.x, opt_result.fun)"
   ]
  },
  {
   "cell_type": "code",
   "execution_count": 6,
   "id": "3d656ea8",
   "metadata": {},
   "outputs": [
    {
     "name": "stdout",
     "output_type": "stream",
     "text": [
      "{'trisk': {'$A$': [], '$A^{\\\\prime}$': [], '$S$': []}, 'cvar': {'$A$': [], '$A^{\\\\prime}$': [], '$S$': []}, 'entropic': {'$A$': [], '$A^{\\\\prime}$': [], '$S$': []}, 'dro': {'$A$': [], '$A^{\\\\prime}$': [], '$S$': []}}\n",
      "{'trisk': {'$A$': [-0.372352741149392], '$A^{\\\\prime}$': [0.1471869882875309], '$S$': [-0.06658442237904554]}, 'cvar': {'$A$': [2.008722461333754], '$A^{\\\\prime}$': [1.0840473540155304], '$S$': [0.812293697252348]}, 'entropic': {'$A$': [3.680515281619093], '$A^{\\\\prime}$': [0.4327379982326316], '$S$': [0.1839828528710573]}, 'dro': {'$A$': [3.757060790376553], '$A^{\\\\prime}$': [1.1876834008730783], '$S$': [1.3144214935295813]}}\n"
     ]
    }
   ],
   "source": [
    "## Generate some data \n",
    "rg = np.random.default_rng(seed=ss)\n",
    "x_asym = gen_data(n=n, name=data_asym, rg=rg)\n",
    "x_asym = x_asym-np.mean(x_asym)\n",
    "x_asym_flip = -np.copy(x_asym)\n",
    "x_sym = gen_data(n=n, name=data_sym, rg=rg)\n",
    "x_sym = x_sym-np.mean(x_sym)\n",
    "\n",
    "data_dict = {data_labels[0]: x_asym,\n",
    "             data_labels[1]: x_asym_flip,\n",
    "             data_labels[2]: x_sym}\n",
    "\n",
    "## Prepare storage for risk values.\n",
    "risk_values = { risk: {data_label: [] for data_label in data_labels} for risk in todo_risks}\n",
    "print(risk_values)\n",
    "\n",
    "## Compute and store various risk values.\n",
    "for risk in todo_risks:\n",
    "    for data_label in data_labels:\n",
    "        locval, riskval = compute_risk(x_values=data_dict[data_label],\n",
    "                                       name=risk,\n",
    "                                       paras=todo_riskparas[risk])\n",
    "        risk_values[risk][data_label] += [locval]\n",
    "print(risk_values)"
   ]
  },
  {
   "cell_type": "code",
   "execution_count": 7,
   "id": "e5d452c5",
   "metadata": {},
   "outputs": [
    {
     "data": {
      "image/png": "[encoded data removed]",
      "text/plain": [
       "<Figure size 600x400 with 3 Axes>"
      ]
     },
     "metadata": {},
     "output_type": "display_data"
    }
   ],
   "source": [
    "## Plot the data histograms with risk values.\n",
    "fig, axes = plt.subplots(len(data_dict), 1, figsize=(6,4), sharex=True)\n",
    "for i, ax in enumerate(axes):\n",
    "    data_label = data_labels[i]\n",
    "    ax.hist(data_dict[data_label],\n",
    "            bins=\"auto\", color=\"black\", hatch=None,\n",
    "            orientation=\"vertical\", density=False)\n",
    "    ax.tick_params(labelsize=my_fontsize)\n",
    "    for risk in todo_risks:\n",
    "        ax.axvline(risk_values[risk][data_label], color=risk_colors[risk], ls=\"solid\")\n",
    "    #ax.set_xlabel(\"Simulated l\", size=my_fontsize)\n",
    "    #ax.set_title(data, size=my_fontsize)\n",
    "    \n",
    "plt.tight_layout()\n",
    "plt.show()\n"
   ]
  },
  {
   "cell_type": "markdown",
   "id": "597cc9d1",
   "metadata": {},
   "source": [
    "___"
   ]
  }
 ],
 "metadata": {
  "kernelspec": {
   "display_name": "Python 3 (ipykernel)",
   "language": "python",
   "name": "python3"
  },
  "language_info": {
   "codemirror_mode": {
    "name": "ipython",
    "version": 3
   },
   "file_extension": ".py",
   "mimetype": "text/x-python",
   "name": "python",
   "nbconvert_exporter": "python",
   "pygments_lexer": "ipython3",
   "version": "3.9.13"
  }
 },
 "nbformat": 4,
 "nbformat_minor": 5
}
