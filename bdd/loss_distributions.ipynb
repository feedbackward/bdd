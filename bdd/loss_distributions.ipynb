{
 "cells": [
  {
   "cell_type": "markdown",
   "id": "cebd954a",
   "metadata": {},
   "source": [
    "# Analysis of loss distributions\n",
    "\n",
    "One of the most important factors underlying this work is the question of *how loss distributions really behave* in machine learning applications. This notebook contains experiments designed to shed some light on this."
   ]
  },
  {
   "cell_type": "code",
   "execution_count": 1,
   "id": "b18191f5",
   "metadata": {},
   "outputs": [],
   "source": [
    "## External modules.\n",
    "from matplotlib.pyplot import savefig, subplots, show, tight_layout\n",
    "import numpy as np\n",
    "from os import path\n",
    "\n",
    "## Internal modules.\n",
    "from setup_data import get_data\n",
    "from setup_losses import get_loss\n",
    "from setup_models import get_model\n",
    "from setup_results import img_dir, results_dir, my_fontsize, my_ext, export_legend"
   ]
  },
  {
   "cell_type": "code",
   "execution_count": 2,
   "id": "8419f37d",
   "metadata": {},
   "outputs": [],
   "source": [
    "## Specify the model type to be used.\n",
    "model_name = \"linreg_multi\""
   ]
  },
  {
   "cell_type": "code",
   "execution_count": 3,
   "id": "357fa2ec",
   "metadata": {},
   "outputs": [],
   "source": [
    "## Specify the base loss and risk to be used.\n",
    "loss_name = \"logistic\"\n",
    "risk_name = \"erm\""
   ]
  },
  {
   "cell_type": "code",
   "execution_count": 4,
   "id": "977b01d5",
   "metadata": {},
   "outputs": [],
   "source": [
    "## Datasets stored locally that we want to examine.\n",
    "datasets = [\"adult\", \"australian\", \"cifar10\", \"cod_rna\",\n",
    "            \"covtype\", \"emnist_balanced\", \"fashion_mnist\",\n",
    "            \"iris\", \"mnist\", \"protein\"]"
   ]
  },
  {
   "cell_type": "code",
   "execution_count": 5,
   "id": "64aef76c",
   "metadata": {},
   "outputs": [],
   "source": [
    "## Prep a random generator object.\n",
    "entropy = 21281555010861417500927421083615113141\n",
    "rg = np.random.default_rng(seed=np.random.SeedSequence(entropy=entropy)) # Use this for a pre-fixed seed.\n",
    "#rg = np.random.default_rng() # Use this for a randomized seed."
   ]
  },
  {
   "cell_type": "code",
   "execution_count": 6,
   "id": "6f3ef285",
   "metadata": {
    "scrolled": false
   },
   "outputs": [
    {
     "name": "stdout",
     "output_type": "stream",
     "text": [
      "/home/mjh/Dropbox/2_research/code/dev/mml-dev/mml/data/adult/adult.h5 (File) 'adult: Full dataset'\n",
      "Last modif.: 'Wed Mar  3 16:01:37 2021'\n",
      "Object Tree: \n",
      "/ (RootGroup) 'adult: Full dataset'\n",
      "/X (Array(45222, 105)) 'adult: Features'\n",
      "/y (Array(45222, 1)) 'adult: Labels'\n",
      "\n",
      "Type: X (<class 'numpy.ndarray'>)\n",
      "Type: y (<class 'numpy.ndarray'>)\n",
      "--Shapes--\n",
      "n_all: 45222 num_features: 105 num_labels: 1\n",
      "--Subset sizes--\n",
      "n_train: 36177 n_val: 4522 n_test: 4523\n",
      "Data types:\n",
      "X_train: <class 'numpy.ndarray'> y_train: <class 'numpy.ndarray'>\n",
      "X_val: <class 'numpy.ndarray'> y_val: <class 'numpy.ndarray'>\n",
      "X_test: <class 'numpy.ndarray'> y_test: <class 'numpy.ndarray'>\n",
      "Shape of parameter 'w': (105, 2)\n"
     ]
    },
    {
     "data": {
      "image/png": "[encoded data removed]",
      "text/plain": [
       "<Figure size 288x144 with 1 Axes>"
      ]
     },
     "metadata": {
      "needs_background": "light"
     },
     "output_type": "display_data"
    },
    {
     "name": "stdout",
     "output_type": "stream",
     "text": [
      "/home/mjh/Dropbox/2_research/code/dev/mml-dev/mml/data/australian/australian.h5 (File) 'australian: Full dataset'\n",
      "Last modif.: 'Thu Nov 18 09:44:35 2021'\n",
      "Object Tree: \n",
      "/ (RootGroup) 'australian: Full dataset'\n",
      "/X (Array(690, 43)) 'australian: Features'\n",
      "/y (Array(690, 1)) 'australian: Labels'\n",
      "\n",
      "Type: X (<class 'numpy.ndarray'>)\n",
      "Type: y (<class 'numpy.ndarray'>)\n",
      "--Shapes--\n",
      "n_all: 690 num_features: 43 num_labels: 1\n",
      "--Subset sizes--\n",
      "n_train: 552 n_val: 69 n_test: 69\n",
      "Data types:\n",
      "X_train: <class 'numpy.ndarray'> y_train: <class 'numpy.ndarray'>\n",
      "X_val: <class 'numpy.ndarray'> y_val: <class 'numpy.ndarray'>\n",
      "X_test: <class 'numpy.ndarray'> y_test: <class 'numpy.ndarray'>\n",
      "Shape of parameter 'w': (43, 2)\n"
     ]
    },
    {
     "data": {
      "image/png": "[encoded data removed]",
      "text/plain": [
       "<Figure size 288x144 with 1 Axes>"
      ]
     },
     "metadata": {
      "needs_background": "light"
     },
     "output_type": "display_data"
    },
    {
     "name": "stdout",
     "output_type": "stream",
     "text": [
      "/home/mjh/Dropbox/2_research/code/dev/mml-dev/mml/data/cifar10/cifar10.h5 (File) 'cifar10: Full dataset'\n",
      "Last modif.: 'Wed Mar  3 16:08:33 2021'\n",
      "Object Tree: \n",
      "/ (RootGroup) 'cifar10: Full dataset'\n",
      "/X (Array(60000, 3072)) 'cifar10: Features'\n",
      "/y (Array(60000, 1)) 'cifar10: Labels'\n",
      "\n",
      "Type: X (<class 'numpy.ndarray'>)\n",
      "Type: y (<class 'numpy.ndarray'>)\n",
      "--Shapes--\n",
      "n_all: 60000 num_features: 3072 num_labels: 1\n",
      "--Subset sizes--\n",
      "n_train: 48000 n_val: 6000 n_test: 6000\n",
      "Data types:\n",
      "X_train: <class 'numpy.ndarray'> y_train: <class 'numpy.ndarray'>\n",
      "X_val: <class 'numpy.ndarray'> y_val: <class 'numpy.ndarray'>\n",
      "X_test: <class 'numpy.ndarray'> y_test: <class 'numpy.ndarray'>\n",
      "Shape of parameter 'w': (3072, 10)\n"
     ]
    },
    {
     "data": {
      "image/png": "[encoded data removed]",
      "text/plain": [
       "<Figure size 288x144 with 1 Axes>"
      ]
     },
     "metadata": {
      "needs_background": "light"
     },
     "output_type": "display_data"
    },
    {
     "name": "stdout",
     "output_type": "stream",
     "text": [
      "/home/mjh/Dropbox/2_research/code/dev/mml-dev/mml/data/cod_rna/cod_rna.h5 (File) 'cod_rna: Full dataset'\n",
      "Last modif.: 'Fri Mar 12 13:43:57 2021'\n",
      "Object Tree: \n",
      "/ (RootGroup) 'cod_rna: Full dataset'\n",
      "/X (Array(331152, 8)) 'cod_rna: Features'\n",
      "/y (Array(331152, 1)) 'cod_rna: Labels'\n",
      "\n",
      "Type: X (<class 'numpy.ndarray'>)\n",
      "Type: y (<class 'numpy.ndarray'>)\n",
      "--Shapes--\n",
      "n_all: 331152 num_features: 8 num_labels: 1\n",
      "--Subset sizes--\n",
      "n_train: 264921 n_val: 33115 n_test: 33116\n",
      "Data types:\n",
      "X_train: <class 'numpy.ndarray'> y_train: <class 'numpy.ndarray'>\n",
      "X_val: <class 'numpy.ndarray'> y_val: <class 'numpy.ndarray'>\n",
      "X_test: <class 'numpy.ndarray'> y_test: <class 'numpy.ndarray'>\n",
      "Shape of parameter 'w': (8, 2)\n"
     ]
    },
    {
     "data": {
      "image/png": "[encoded data removed]",
      "text/plain": [
       "<Figure size 288x144 with 1 Axes>"
      ]
     },
     "metadata": {
      "needs_background": "light"
     },
     "output_type": "display_data"
    },
    {
     "name": "stdout",
     "output_type": "stream",
     "text": [
      "/home/mjh/Dropbox/2_research/code/dev/mml-dev/mml/data/covtype/covtype.h5 (File) 'covtype: Full dataset'\n",
      "Last modif.: 'Wed Mar  3 16:08:50 2021'\n",
      "Object Tree: \n",
      "/ (RootGroup) 'covtype: Full dataset'\n",
      "/X (Array(581012, 54)) 'covtype: Features'\n",
      "/y (Array(581012, 1)) 'covtype: Labels'\n",
      "\n",
      "Type: X (<class 'numpy.ndarray'>)\n",
      "Type: y (<class 'numpy.ndarray'>)\n",
      "--Shapes--\n",
      "n_all: 581012 num_features: 54 num_labels: 1\n",
      "--Subset sizes--\n",
      "n_train: 464809 n_val: 58101 n_test: 58102\n",
      "Data types:\n",
      "X_train: <class 'numpy.ndarray'> y_train: <class 'numpy.ndarray'>\n",
      "X_val: <class 'numpy.ndarray'> y_val: <class 'numpy.ndarray'>\n",
      "X_test: <class 'numpy.ndarray'> y_test: <class 'numpy.ndarray'>\n",
      "Shape of parameter 'w': (54, 7)\n"
     ]
    },
    {
     "data": {
      "image/png": "[encoded data removed]",
      "text/plain": [
       "<Figure size 288x144 with 1 Axes>"
      ]
     },
     "metadata": {
      "needs_background": "light"
     },
     "output_type": "display_data"
    },
    {
     "name": "stdout",
     "output_type": "stream",
     "text": [
      "/home/mjh/Dropbox/2_research/code/dev/mml-dev/mml/data/emnist_balanced/emnist_balanced.h5 (File) 'emnist_balanced: Full dataset'\n",
      "Last modif.: 'Thu Nov 11 15:48:45 2021'\n",
      "Object Tree: \n",
      "/ (RootGroup) 'emnist_balanced: Full dataset'\n",
      "/X (Array(131600, 784)) 'emnist_balanced: Features'\n",
      "/y (Array(131600, 1)) 'emnist_balanced: Labels'\n",
      "\n",
      "Type: X (<class 'numpy.ndarray'>)\n",
      "Type: y (<class 'numpy.ndarray'>)\n",
      "--Shapes--\n",
      "n_all: 131600 num_features: 784 num_labels: 1\n",
      "--Subset sizes--\n",
      "n_train: 105280 n_val: 13160 n_test: 13160\n",
      "Data types:\n",
      "X_train: <class 'numpy.ndarray'> y_train: <class 'numpy.ndarray'>\n",
      "X_val: <class 'numpy.ndarray'> y_val: <class 'numpy.ndarray'>\n",
      "X_test: <class 'numpy.ndarray'> y_test: <class 'numpy.ndarray'>\n",
      "Shape of parameter 'w': (784, 47)\n"
     ]
    },
    {
     "data": {
      "image/png": "[encoded data removed]",
      "text/plain": [
       "<Figure size 288x144 with 1 Axes>"
      ]
     },
     "metadata": {
      "needs_background": "light"
     },
     "output_type": "display_data"
    },
    {
     "name": "stdout",
     "output_type": "stream",
     "text": [
      "/home/mjh/Dropbox/2_research/code/dev/mml-dev/mml/data/fashion_mnist/fashion_mnist.h5 (File) 'fashion_mnist: Full dataset'\n",
      "Last modif.: 'Wed Jan  5 17:47:44 2022'\n",
      "Object Tree: \n",
      "/ (RootGroup) 'fashion_mnist: Full dataset'\n",
      "/X (Array(70000, 784)) 'fashion_mnist: Features'\n",
      "/y (Array(70000, 1)) 'fashion_mnist: Labels'\n",
      "\n",
      "Type: X (<class 'numpy.ndarray'>)\n",
      "Type: y (<class 'numpy.ndarray'>)\n",
      "--Shapes--\n",
      "n_all: 70000 num_features: 784 num_labels: 1\n",
      "--Subset sizes--\n",
      "n_train: 56000 n_val: 7000 n_test: 7000\n",
      "Data types:\n",
      "X_train: <class 'numpy.ndarray'> y_train: <class 'numpy.ndarray'>\n",
      "X_val: <class 'numpy.ndarray'> y_val: <class 'numpy.ndarray'>\n",
      "X_test: <class 'numpy.ndarray'> y_test: <class 'numpy.ndarray'>\n",
      "Shape of parameter 'w': (784, 10)\n"
     ]
    },
    {
     "data": {
      "image/png": "[encoded data removed]",
      "text/plain": [
       "<Figure size 288x144 with 1 Axes>"
      ]
     },
     "metadata": {
      "needs_background": "light"
     },
     "output_type": "display_data"
    },
    {
     "name": "stdout",
     "output_type": "stream",
     "text": [
      "/home/mjh/Dropbox/2_research/code/dev/mml-dev/mml/data/iris/iris.h5 (File) 'iris: Full dataset'\n",
      "Last modif.: 'Fri Mar 12 16:51:56 2021'\n",
      "Object Tree: \n",
      "/ (RootGroup) 'iris: Full dataset'\n",
      "/X (Array(150, 4)) 'iris: Features'\n",
      "/y (Array(150, 1)) 'iris: Labels'\n",
      "\n",
      "Type: X (<class 'numpy.ndarray'>)\n",
      "Type: y (<class 'numpy.ndarray'>)\n",
      "--Shapes--\n",
      "n_all: 150 num_features: 4 num_labels: 1\n",
      "--Subset sizes--\n",
      "n_train: 120 n_val: 15 n_test: 15\n",
      "Data types:\n",
      "X_train: <class 'numpy.ndarray'> y_train: <class 'numpy.ndarray'>\n",
      "X_val: <class 'numpy.ndarray'> y_val: <class 'numpy.ndarray'>\n",
      "X_test: <class 'numpy.ndarray'> y_test: <class 'numpy.ndarray'>\n",
      "Shape of parameter 'w': (4, 3)\n"
     ]
    },
    {
     "data": {
      "image/png": "[encoded data removed]",
      "text/plain": [
       "<Figure size 288x144 with 1 Axes>"
      ]
     },
     "metadata": {
      "needs_background": "light"
     },
     "output_type": "display_data"
    },
    {
     "name": "stdout",
     "output_type": "stream",
     "text": [
      "/home/mjh/Dropbox/2_research/code/dev/mml-dev/mml/data/mnist/mnist.h5 (File) 'mnist: Full dataset'\n",
      "Last modif.: 'Fri Mar 12 18:37:03 2021'\n",
      "Object Tree: \n",
      "/ (RootGroup) 'mnist: Full dataset'\n",
      "/X (Array(70000, 784)) 'mnist: Features'\n",
      "/y (Array(70000, 1)) 'mnist: Labels'\n",
      "\n",
      "Type: X (<class 'numpy.ndarray'>)\n",
      "Type: y (<class 'numpy.ndarray'>)\n",
      "--Shapes--\n",
      "n_all: 70000 num_features: 784 num_labels: 1\n",
      "--Subset sizes--\n",
      "n_train: 56000 n_val: 7000 n_test: 7000\n",
      "Data types:\n",
      "X_train: <class 'numpy.ndarray'> y_train: <class 'numpy.ndarray'>\n",
      "X_val: <class 'numpy.ndarray'> y_val: <class 'numpy.ndarray'>\n",
      "X_test: <class 'numpy.ndarray'> y_test: <class 'numpy.ndarray'>\n",
      "Shape of parameter 'w': (784, 10)\n"
     ]
    },
    {
     "data": {
      "image/png": "[encoded data removed]",
      "text/plain": [
       "<Figure size 288x144 with 1 Axes>"
      ]
     },
     "metadata": {
      "needs_background": "light"
     },
     "output_type": "display_data"
    },
    {
     "name": "stdout",
     "output_type": "stream",
     "text": [
      "/home/mjh/Dropbox/2_research/code/dev/mml-dev/mml/data/protein/protein.h5 (File) 'protein: Full dataset'\n",
      "Last modif.: 'Wed Jan  5 17:50:13 2022'\n",
      "Object Tree: \n",
      "/ (RootGroup) 'protein: Full dataset'\n",
      "/X (Array(145751, 74)) 'protein: Features'\n",
      "/y (Array(145751, 1)) 'protein: Labels'\n",
      "\n",
      "Type: X (<class 'numpy.ndarray'>)\n",
      "Type: y (<class 'numpy.ndarray'>)\n",
      "--Shapes--\n",
      "n_all: 145751 num_features: 74 num_labels: 1\n",
      "--Subset sizes--\n",
      "n_train: 116600 n_val: 14575 n_test: 14576\n",
      "Data types:\n",
      "X_train: <class 'numpy.ndarray'> y_train: <class 'numpy.ndarray'>\n",
      "X_val: <class 'numpy.ndarray'> y_val: <class 'numpy.ndarray'>\n",
      "X_test: <class 'numpy.ndarray'> y_test: <class 'numpy.ndarray'>\n",
      "Shape of parameter 'w': (74, 2)\n"
     ]
    },
    {
     "data": {
      "image/png": "[encoded data removed]",
      "text/plain": [
       "<Figure size 288x144 with 1 Axes>"
      ]
     },
     "metadata": {
      "needs_background": "light"
     },
     "output_type": "display_data"
    }
   ],
   "source": [
    "for dataset in datasets:\n",
    "    \n",
    "    ## Load up a dataset.\n",
    "    (X_train, y_train, X_val, y_val, X_test, y_test, ds_paras) = get_data(dataset=dataset, rg=rg)\n",
    "    \n",
    "    ## Get the base loss object.\n",
    "    loss_kwargs = {\"risk_name\": risk_name}\n",
    "    loss_base, loss = get_loss(name=loss_name, **loss_kwargs)\n",
    "    \n",
    "    ## Initialize a linear model.\n",
    "    model = get_model(name=model_name, paras_init=None, rg=rg, **ds_paras, **loss_kwargs)\n",
    "    print(\"Shape of parameter 'w':\", model.paras[\"w\"].shape)\n",
    "    \n",
    "    ## Compute base losses.\n",
    "    losses_tr = loss_base(model=model, X=X_train, y=y_train)\n",
    "    losses_te = loss_base(model=model, X=X_test, y=y_test)\n",
    "    \n",
    "    ## Plot loss distributions using a histogram.\n",
    "    fig, ax = subplots(1, 1, figsize=(4,2))\n",
    "    ax.hist(losses_tr, bins=\"auto\", color=\"xkcd:black\", fill=False, histtype=\"step\",\n",
    "            hatch=None, orientation=\"vertical\", density=False)\n",
    "    ax.hist(losses_te, bins=\"auto\", color=\"xkcd:gray\", fill=False, histtype=\"step\",\n",
    "            hatch=None, orientation=\"vertical\", density=False)\n",
    "    ax.tick_params(labelsize=my_fontsize)\n",
    "    ax.set_title(\"{}\".format(dataset), size=my_fontsize)\n",
    "    fname = path.join(img_dir, \"lossdist_init_{}_{}.{}\".format(loss_name, dataset, my_ext))\n",
    "    tight_layout()\n",
    "    savefig(fname=fname)\n",
    "    show()"
   ]
  },
  {
   "cell_type": "markdown",
   "id": "9bd747f3",
   "metadata": {},
   "source": [
    "___"
   ]
  }
 ],
 "metadata": {
  "kernelspec": {
   "display_name": "Python 3 (ipykernel)",
   "language": "python",
   "name": "python3"
  },
  "language_info": {
   "codemirror_mode": {
    "name": "ipython",
    "version": 3
   },
   "file_extension": ".py",
   "mimetype": "text/x-python",
   "name": "python",
   "nbconvert_exporter": "python",
   "pygments_lexer": "ipython3",
   "version": "3.9.7"
  }
 },
 "nbformat": 4,
 "nbformat_minor": 5
}
